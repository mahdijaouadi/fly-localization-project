{
 "cells": [
  {
   "cell_type": "code",
   "execution_count": null,
   "metadata": {},
   "outputs": [],
   "source": [
    "import os\n",
    "from PIL import Image\n",
    "import numpy as np\n",
    "import matplotlib.pyplot as plt\n",
    "from tensorflow.keras.preprocessing.image import ImageDataGenerator\n",
    "import random\n",
    "import pickle\n",
    "import torch"
   ]
  },
  {
   "cell_type": "code",
   "execution_count": 2,
   "metadata": {},
   "outputs": [],
   "source": [
    "def img_preprocess(img):\n",
    "    img = img.resize((224,224))\n",
    "    img= np.array(img) \n",
    "    img=img/255.0\n",
    "    img=torch.from_numpy(img).to(torch.float32)\n",
    "    img = img.permute(2,0,1)\n",
    "    return img"
   ]
  },
  {
   "cell_type": "code",
   "execution_count": 3,
   "metadata": {},
   "outputs": [],
   "source": [
    "image_folder = f'..//drone-detection-new.v5-new-train.yolov8//train//images'\n",
    "image_files = [f for f in os.listdir(image_folder) if os.path.isfile(os.path.join(image_folder, f))]\n",
    "label_folder = f'..//drone-detection-new.v5-new-train.yolov8//train//labels'\n",
    "data_list=[]\n",
    "for img_file in image_files:\n",
    "    try:\n",
    "        label_file=img_file[:-4]+'.txt'\n",
    "        with open(f'{label_folder}//{label_file}', 'r') as file:\n",
    "            content = file.read()\n",
    "        label=content.split(' ')\n",
    "        label=list(map(np.float32, label))\n",
    "        img = Image.open(f'{image_folder}//{img_file}')\n",
    "        img=img_preprocess(img)\n",
    "        data_list.append((img,label))\n",
    "    except:\n",
    "        pass\n",
    "with open(f'..//data//data.pkl', 'wb') as f:\n",
    "    pickle.dump(data_list, f)"
   ]
  }
 ],
 "metadata": {
  "kernelspec": {
   "display_name": "myenv",
   "language": "python",
   "name": "python3"
  },
  "language_info": {
   "codemirror_mode": {
    "name": "ipython",
    "version": 3
   },
   "file_extension": ".py",
   "mimetype": "text/x-python",
   "name": "python",
   "nbconvert_exporter": "python",
   "pygments_lexer": "ipython3",
   "version": "3.11.5"
  }
 },
 "nbformat": 4,
 "nbformat_minor": 2
}
